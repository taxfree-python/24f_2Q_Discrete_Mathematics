{
  "cells": [
    {
      "cell_type": "code",
      "execution_count": null,
      "metadata": {
        "id": "AdOxj1kEwdv_"
      },
      "outputs": [],
      "source": [
        "import sympy as sp\n",
        "import numpy as np\n",
        "from scipy.optimize import fsolve\n",
        "from numpy.linalg import LinAlgError"
      ]
    },
    {
      "cell_type": "markdown",
      "metadata": {
        "id": "DfbdHWgQ8XR7"
      },
      "source": [
        "## 必要なパラメータの定義"
      ]
    },
    {
      "cell_type": "code",
      "execution_count": null,
      "metadata": {
        "id": "6KFbJPtBwgul"
      },
      "outputs": [],
      "source": [
        "# ヘノン写像に関するパラメータの設定\n",
        "a_val = 1.4\n",
        "b_val = 0.3\n",
        "n = 10\n",
        "\n",
        "# ニュートン法の初期値の設定\n",
        "initial_guess = [-10, -10]\n",
        "\n",
        "# ニュートン法に関するパラメータの設定(defaultと同じ)\n",
        "tol=1e-8\n",
        "max_iter=100\n",
        "\n",
        "# ランダムに生成する初期値に関するパラメータの設定\n",
        "seed = 42\n",
        "num_points = 10"
      ]
    },
    {
      "cell_type": "markdown",
      "metadata": {
        "id": "G4femngB8aHQ"
      },
      "source": [
        "## $n$ 回合成したヘノン写像を生成する"
      ]
    },
    {
      "cell_type": "code",
      "execution_count": null,
      "metadata": {
        "id": "Q9X52oTbwlah"
      },
      "outputs": [],
      "source": [
        "# シンボリック変数の定義\n",
        "x, y = sp.symbols('x y')\n",
        "a, b = sp.symbols('a b')\n",
        "\n",
        "# エノン写像の定義\n",
        "def henon_map(x, y, a, b):\n",
        "    return a - x**2 + b*y, x\n",
        "\n",
        "# エノン写像を n 回合成する関数\n",
        "def henon_n_compose(x, y, a, b, n, expand=False):\n",
        "    xn, yn = x, y\n",
        "    for i in range(n):\n",
        "        xn, yn = henon_map(xn, yn, a, b)\n",
        "\n",
        "    if expand:\n",
        "        xn = sp.expand(xn)\n",
        "        yn = sp.expand(yn)\n",
        "    return xn, yn"
      ]
    },
    {
      "cell_type": "code",
      "execution_count": null,
      "metadata": {
        "id": "YO-TwalEtupj"
      },
      "outputs": [],
      "source": [
        "# n 回合成したエノン写像\n",
        "xn, yn = henon_n_compose(x, y, a, b, n)\n",
        "# print(f\"H^{n}(x, y):\")\n",
        "# print(f\"x_{n} =\", xn)\n",
        "# print(f\"y_{n} =\", yn)"
      ]
    },
    {
      "cell_type": "markdown",
      "metadata": {
        "id": "PrMX3Hh18fi-"
      },
      "source": [
        "## ニュートン法を用いて $n$ 回合成したヘノン写像の不動点を計算する"
      ]
    },
    {
      "cell_type": "code",
      "execution_count": null,
      "metadata": {
        "colab": {
          "base_uri": "https://localhost:8080/"
        },
        "id": "nB6JuSeVAwO-",
        "outputId": "e68c2142-9c89-4d48-a66c-f828401eb751"
      },
      "outputs": [],
      "source": [
        "# 指定された範囲からランダムな初期値を生成する関数（シード固定）\n",
        "def generate_random_initial_guesses(num_points, lower_bound=-1, upper_bound=1, seed=None):\n",
        "    if seed is not None:\n",
        "        np.random.seed(seed)\n",
        "    initial_guesses = []\n",
        "    for _ in range(num_points):\n",
        "        x0 = round(np.random.uniform(lower_bound, upper_bound), 1)\n",
        "        y0 = round(np.random.uniform(lower_bound, upper_bound), 1)\n",
        "        initial_guesses.append((x0, y0))\n",
        "    return initial_guesses\n",
        "\n",
        "initial_guesses = generate_random_initial_guesses(num_points, seed=seed)\n",
        "print(initial_guesses)"
      ]
    },
    {
      "cell_type": "code",
      "execution_count": null,
      "metadata": {
        "colab": {
          "base_uri": "https://localhost:8080/"
        },
        "id": "1Fl6TCHDtvLH",
        "outputId": "92cf8902-b513-4ff8-8284-5d8121fc3993"
      },
      "outputs": [],
      "source": [
        "# シンボリック変数の再定義\n",
        "x0, y0 = sp.symbols('x0 y0')\n",
        "\n",
        "# エノン写像の合成結果を元に関数定義\n",
        "xn, yn = henon_n_compose(x0, y0, a, b, n)\n",
        "\n",
        "# 関数の定義\n",
        "f1 = xn - x0\n",
        "f2 = yn - y0\n",
        "F = sp.Matrix([f1, f2])\n",
        "\n",
        "# ヤコビ行列の計算\n",
        "J = F.jacobian([x0, y0])\n",
        "\n",
        "# 数値関数への変換\n",
        "F_func = sp.lambdify((x0, y0, a, b), F, 'numpy')\n",
        "J_func = sp.lambdify((x0, y0, a, b), J, 'numpy')\n",
        "\n",
        "# ニュートン法の実装\n",
        "def newton_method(F_func, J_func, initial_guess, a_val, b_val, tol=1e-8, max_iter=100):\n",
        "    xy = np.array(initial_guess, dtype=float)\n",
        "    for _ in range(max_iter):\n",
        "        F_val = np.array(F_func(xy[0], xy[1], a_val, b_val), dtype=float).flatten()\n",
        "        J_val = np.array(J_func(xy[0], xy[1], a_val, b_val), dtype=float)\n",
        "        try:\n",
        "            delta = np.linalg.solve(J_val, -F_val)\n",
        "        except LinAlgError:\n",
        "            delta = np.linalg.pinv(J_val).dot(-F_val)  # 擬似逆行列を使用\n",
        "        xy += delta\n",
        "        if np.linalg.norm(delta) < tol:\n",
        "            break\n",
        "    return xy\n",
        "\n",
        "# ニュートン法による周期点の計算\n",
        "periodic_point = newton_method(F_func, J_func, initial_guess, a_val, b_val)\n",
        "\n",
        "print(\"周期点:\", periodic_point)"
      ]
    },
    {
      "cell_type": "markdown",
      "metadata": {
        "id": "Q5tEoVYpELUi"
      },
      "source": [
        "## 実験データ収集用"
      ]
    },
    {
      "cell_type": "code",
      "execution_count": null,
      "metadata": {
        "colab": {
          "base_uri": "https://localhost:8080/"
        },
        "id": "-kpZuqtECjs5",
        "outputId": "2119d0b1-f390-46e1-eee7-9641560977c9"
      },
      "outputs": [],
      "source": [
        "solutions = []\n",
        "\n",
        "for initial_guess in initial_guesses:\n",
        "    periodic_point = newton_method(F_func, J_func, initial_guess, a_val, b_val)\n",
        "    print(f\"{n}周期点:\", f\"初期値:{initial_guess}\", periodic_point)\n",
        "    solutions.append([initial_guess, periodic_point])"
      ]
    },
    {
      "cell_type": "markdown",
      "metadata": {
        "id": "wFWWty7KIlmB"
      },
      "source": [
        "## [確認用] 周期点が初期値に近い値になっているかを計算"
      ]
    },
    {
      "cell_type": "code",
      "execution_count": null,
      "metadata": {
        "id": "mjBL-apAKbMb"
      },
      "outputs": [],
      "source": [
        "# 検証用の関数\n",
        "def verify_solution(solution, a, b, n):\n",
        "    x, y = solution\n",
        "    for _ in range(n):\n",
        "        x, y = henon_map(x, y, a, b)\n",
        "    return (x, y)"
      ]
    },
    {
      "cell_type": "code",
      "execution_count": null,
      "metadata": {
        "colab": {
          "base_uri": "https://localhost:8080/"
        },
        "id": "imKaJBhLI3z1",
        "outputId": "0a36ca52-e6b7-4383-d35d-8578809161dd"
      },
      "outputs": [],
      "source": [
        "verification_results = []\n",
        "for initial, fixed in solutions:\n",
        "    if not np.isnan(fixed).any():\n",
        "        verified = verify_solution(fixed, a_val, b_val, n)\n",
        "        verification_results.append((fixed, verified))\n",
        "\n",
        "# 検証結果を表示\n",
        "print(\"\\nVerification Results:\")\n",
        "for fixed, verified in verification_results:\n",
        "    print(f\"Fixed point: {fixed} -> After {n} compositions: {verified}\")"
      ]
    },
    {
      "cell_type": "markdown",
      "metadata": {
        "id": "OUQPlso68y0k"
      },
      "source": [
        "## [確認用] $n=1$の不動点を計算する"
      ]
    },
    {
      "cell_type": "code",
      "execution_count": null,
      "metadata": {
        "colab": {
          "base_uri": "https://localhost:8080/"
        },
        "id": "O9_Enp44uDdt",
        "outputId": "a570a730-3029-4907-ab12-51655ceaa96f"
      },
      "outputs": [],
      "source": [
        "def find_fixed_points(a_val, b_val):\n",
        "    # シンボリック変数の定義\n",
        "    x, y = sp.symbols('x y')\n",
        "\n",
        "    # エノン写像の定義\n",
        "    henon_map = (a_val - x**2 + b_val*y, x)\n",
        "\n",
        "    # 不動点の条件\n",
        "    fixed_point_eq1 = sp.Eq(henon_map[0], x)\n",
        "    fixed_point_eq2 = sp.Eq(henon_map[1], y)\n",
        "\n",
        "    # 連立方程式を解く\n",
        "    solutions = sp.solve([fixed_point_eq1, fixed_point_eq2], (x, y))\n",
        "\n",
        "    return solutions\n",
        "\n",
        "# パラメータの設定\n",
        "a_val = 1.4\n",
        "b_val = 0.3\n",
        "\n",
        "# 不動点を計算\n",
        "fixed_points = find_fixed_points(a_val, b_val)\n",
        "print(f\"不動点: {fixed_points}\")"
      ]
    }
  ],
  "metadata": {
    "colab": {
      "machine_shape": "hm",
      "provenance": []
    },
    "kernelspec": {
      "display_name": "Python 3",
      "name": "python3"
    },
    "language_info": {
      "name": "python"
    }
  },
  "nbformat": 4,
  "nbformat_minor": 0
}
