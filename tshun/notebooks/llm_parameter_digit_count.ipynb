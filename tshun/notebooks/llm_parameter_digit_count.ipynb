{
  "cells": [
    {
      "cell_type": "code",
      "execution_count": null,
      "metadata": {
        "id": "l8FtEbFxrFbr"
      },
      "outputs": [],
      "source": [
        "import csv\n",
        "import gc\n",
        "from collections import Counter\n",
        "\n",
        "import numpy as np\n",
        "import safetensors\n",
        "import torch\n",
        "from tqdm import tqdm"
      ]
    },
    {
      "cell_type": "markdown",
      "metadata": {},
      "source": [
        "### Notes on Model Parameter Files\n",
        "\n",
        "- Only safetensors files are accepted.\n",
        "- Due to processing with numpy, the model parameters will be loaded into CPU RAM.\n",
        "- After processing each path, the memory will be cleared to free up RAM, but the contents of a single file cannot be read in chunks. Therefore, each file should fit into RAM.\n",
        "    - As a rule of thumb, if a single safetensors file is smaller than 5GB, having around 25GB of RAM should prevent memory shortages.\n",
        "    - When running on [Google Colaboratory](https://colab.google/), it is recommended to choose the High-RAM option in the Pro plan or higher. Note that High-RAM is not available in the Pay As You Go plan.\n"
      ]
    },
    {
      "cell_type": "code",
      "execution_count": null,
      "metadata": {
        "colab": {
          "base_uri": "https://localhost:8080/"
        },
        "id": "Y-A3jImp6r-T",
        "outputId": "22277f00-f20f-4ccc-e3c2-26b0a080fe08"
      },
      "outputs": [],
      "source": [
        "model_path = [\"{your_model_path}\"]\n",
        "\n",
        "save_filepath = \"{your_save_filepath}\"\n",
        "\n",
        "print(f\"{model_path=}\")\n",
        "print(f\"{save_filepath=}\")"
      ]
    },
    {
      "cell_type": "code",
      "execution_count": null,
      "metadata": {
        "id": "4zZUU-GX6xuw"
      },
      "outputs": [],
      "source": [
        "def first_digit(x):\n",
        "    \"\"\"\n",
        "    Extracts the first digit of a given number.\n",
        "\n",
        "    Parameters\n",
        "    ----------\n",
        "    x : float\n",
        "        The number from which to extract the first digit.\n",
        "\n",
        "    Returns\n",
        "    -------\n",
        "    int\n",
        "        The first digit of the absolute value of `x`.\n",
        "    \"\"\"\n",
        "    if x == 0:\n",
        "        return 0\n",
        "    return int(f\"{abs(x):.10e}\".split(\"e\")[0][0])\n",
        "\n",
        "\n",
        "vectorized_first_digit = np.frompyfunc(first_digit, 1, 1)\n",
        "\n",
        "\n",
        "def process_models(path_list):\n",
        "    \"\"\"\n",
        "    Processes the parameters of all models to analyze the distribution of their first digits.\n",
        "\n",
        "    Parameters\n",
        "    ----------\n",
        "    path_list : list of str\n",
        "        A list of file paths to the models in safetensors format.\n",
        "\n",
        "    Returns\n",
        "    -------\n",
        "    collections.Counter\n",
        "        A Counter object containing the frequency of each first digit.\n",
        "    \"\"\"\n",
        "    total_digits = []\n",
        "\n",
        "    # Display the processing progress of all models using tqdm\n",
        "    with tqdm(total=len(path_list), desc=\"Processing models\") as pbar:\n",
        "        for path in path_list:\n",
        "            # Load model parameters in safetensors format\n",
        "            tensors = {}\n",
        "            with safetensors.safe_open(path, framework=\"pt\") as f:\n",
        "                # Display the progress of reading each file using tqdm\n",
        "                file_pbar = tqdm(\n",
        "                    total=len(f.keys()), desc=f\"Processing {path}\", leave=False\n",
        "                )\n",
        "                for k in f.keys():\n",
        "                    tensor = f.get_tensor(k)\n",
        "                    # Convert from BFloat16 to Float32\n",
        "                    if tensor.dtype == torch.bfloat16:\n",
        "                        tensor = tensor.to(torch.float32)\n",
        "                    tensors[k] = tensor.numpy()\n",
        "                    file_pbar.update(1)\n",
        "                file_pbar.close()\n",
        "\n",
        "            # Convert parameters to a one-dimensional list\n",
        "            param_values = np.concatenate([p.flatten() for p in tensors.values()])\n",
        "\n",
        "            pbar.update(1 / 3)\n",
        "\n",
        "            # Exclude zero parameters\n",
        "            non_zero_values = param_values[param_values != 0]\n",
        "\n",
        "            # Release memory\n",
        "            del tensors\n",
        "            del param_values\n",
        "            gc.collect()  # Perform garbage collection\n",
        "\n",
        "            pbar.update(1 / 3)\n",
        "\n",
        "            # Extract the first digit using the vectorized function\n",
        "            digits = vectorized_first_digit(non_zero_values)\n",
        "            total_digits.extend(digits)\n",
        "\n",
        "            # Release memory\n",
        "            del non_zero_values\n",
        "            del digits\n",
        "            gc.collect()  # Perform garbage collection\n",
        "\n",
        "            pbar.update(1 / 3)\n",
        "\n",
        "    return Counter(total_digits)\n",
        "\n",
        "\n",
        "def save_counter_to_csv(counter, filename):\n",
        "    \"\"\"\n",
        "    Converts a Counter object to CSV format and saves it to a file.\n",
        "\n",
        "    Parameters\n",
        "    ----------\n",
        "    counter : collections.Counter\n",
        "        A Counter object containing the frequency of each digit.\n",
        "    filename : str\n",
        "        The name of the file to save the CSV data to.\n",
        "\n",
        "    Returns\n",
        "    -------\n",
        "    None\n",
        "    \"\"\"\n",
        "    counter_items = counter.items()\n",
        "\n",
        "    with open(filename, mode=\"w\", newline=\"\") as file:\n",
        "        writer = csv.writer(file)\n",
        "        writer.writerow([\"Digit\", \"Frequency\"])\n",
        "        for key, value in counter_items:\n",
        "            writer.writerow([key, value])\n",
        "\n",
        "    print(f\"Saved to {filename}\")"
      ]
    },
    {
      "cell_type": "code",
      "execution_count": null,
      "metadata": {
        "colab": {
          "base_uri": "https://localhost:8080/"
        },
        "id": "dqz3dwBi8CBd",
        "outputId": "3e2efe61-22a9-4b7e-9ca4-6e1b9823757a"
      },
      "outputs": [],
      "source": [
        "counter = process_models(model_path)\n",
        "save_counter_to_csv(counter, save_filepath)"
      ]
    }
  ],
  "metadata": {
    "colab": {
      "machine_shape": "hm",
      "provenance": []
    },
    "kernelspec": {
      "display_name": "Python 3",
      "name": "python3"
    },
    "language_info": {
      "name": "python"
    }
  },
  "nbformat": 4,
  "nbformat_minor": 0
}
