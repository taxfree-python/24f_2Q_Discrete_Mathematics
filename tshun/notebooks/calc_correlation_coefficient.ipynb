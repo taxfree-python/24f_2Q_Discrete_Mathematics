{
 "cells": [
  {
   "cell_type": "code",
   "execution_count": null,
   "metadata": {},
   "outputs": [],
   "source": [
    "import scipy.stats as stats"
   ]
  },
  {
   "cell_type": "code",
   "execution_count": null,
   "metadata": {},
   "outputs": [],
   "source": [
    "models = [\"Meta-Llama-3.1-8B-Instruct\", \"Qwen2-7B-Instruct\", \"gemma-2-9b-it\", \"Mistral-7B-Instruct-v0.2\"]\n",
    "mae = [0.0185, 0.0182, 0.0161, 0.0189]\n",
    "scores = [26.59, 24.76, 23.18, 18.44]\n",
    "\n",
    "# Calculate the correlation coefficient\n",
    "correlation, p_value = stats.pearsonr(mae, scores)\n",
    "\n",
    "print(f\"Pearson correlation coefficient: {correlation:.4f}\")\n",
    "print(f\"P-value: {p_value:.4f}\")"
   ]
  }
 ],
 "metadata": {
  "language_info": {
   "name": "python"
  }
 },
 "nbformat": 4,
 "nbformat_minor": 2
}
